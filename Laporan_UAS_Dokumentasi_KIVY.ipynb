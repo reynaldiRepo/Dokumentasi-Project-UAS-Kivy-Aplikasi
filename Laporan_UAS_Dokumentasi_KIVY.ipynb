{
 "cells": [
  {
   "cell_type": "markdown",
   "metadata": {},
   "source": [
    "# Pengertian Kivy\n",
    "\n",
    "kivy adalah library Open Source dari python yang cocok untuk pengembangan aplikasi yang mudah dan cepat dan dapat dimanfaatkan sebagai pemngembangan User Interface yang Inovatif, dengan library Kivy dapat dibangun aplikasi yang bisa Multi Platform secara OS maupun Device, Kivy dapat diimplementasikan pada pembuatan aplikasi Desktop(Windows/Linux/MacOS) ataupun aplikasi Mobile(Android)"
   ]
  },
  {
   "cell_type": "markdown",
   "metadata": {},
   "source": [
    "## Instalasi Kivy \n",
    "\n",
    "1. Pastikan dimiliki versi terbaru untuk pip dan wheel\n",
    "   <br>\"python -m pip install --upgrade pip wheel setuptools\"\n",
    "2. Install dependecies dari kivy dan gsStramer<br>\n",
    "   \"python -m pip install docutils pygments pypiwin32 kivy.deps.sdl2 kivy.deps.glew\"<br>\n",
    "   \"python -m pip install kivy.deps.gstreamer\"<br>\n",
    "   Catatan :<br>\n",
    "   Bila terjadi memory error saat melakukan installasi tambahkan option -no-cache-dir   \n",
    "3. Install Library kivy menggunakan command<br>\n",
    "   \"python -m pip install kivy\"\n",
    "4. (OPTIONAL) kivy menyediakan beberapa tamplate atau contoh aplikasi yang bisa didapatkan user dengan menggunakan Commabd<br>\n",
    "   \"python -m pip install kivy_examples\""
   ]
  },
  {
   "cell_type": "markdown",
   "metadata": {},
   "source": [
    "## Dokumentasi OOP Proyek Kivy\n",
    "\n",
    "#### Diagram Class \n",
    "\n",
    "\n",
    "<img src=\"https://4.bp.blogspot.com/-WfHaNB6sLys/XB0bBpsWRmI/AAAAAAAAAws/Yx4sCXVMVFkAkLri_qxTjPFHEyy4Rk2igCK4BGAYYCw/s1600/diagram.PNG\">"
   ]
  },
  {
   "cell_type": "markdown",
   "metadata": {},
   "source": [
    "### Konsep - konsep OOP yang digunakan\n",
    "\n",
    "- Inheritance\n",
    "\t- Overidding <br>\n",
    "\t  Terdapat Pewarisan dari Class Screen Terhadap Class Login, Regist, menu dan view. Pada class turunan tersebut tidak ada perlakuan replace melainkan penambahan Atribut dan method\n",
    "\t- Multiple Inheritance & Super Class <br>\n",
    "\tTerdapat Penurunan secara multiple inheritance dimana class SelectableRecycleBoxLayout berinherit dengan class (FocusBehavior, LayoutSelectionBehavior, RecycleBoxLayout) dan SelectableBook berinherit dengan(RecycleDataViewBehavior, GridLayout)  dan unik yang diambil dari class parent menuu turunan digunakan method Super Class\n",
    "    \n",
    "\n",
    "\n",
    "NB : Penjelasan Lengkap Dijelaskan di setiap Potongan Code dibawah\n",
    "\n"
   ]
  },
  {
   "cell_type": "markdown",
   "metadata": {},
   "source": [
    "### Tentang Aplikasi\n",
    "Aplikasi berbasis library kivy yang berbentuk UI sistem pembelian buku. Apliksi ini berisikan beberapa layout yang pembuatannya didasari konsep OOP.\n",
    "\n",
    "### File .kv dalam Pemograman KIVY\n",
    "\n",
    "Aturan Kivy berlaku untuk widget tertentu dan digunakan dalam file KV untuk memodifikasi widget, seperti menentukan perilaku interaktif atau menambahkan representasi grafis dari widget. Kelas dinamis Kivy memungkinkan Anda dengan cepat membuat widget atau aturan baru tanpa deklarasi Python apa pun. Sebelum tidak digunakan lagi, template Kivy digunakan untuk menghemat waktu pengguna saat menata konten, seperti hanya harus menentukan nilai tombol sekali untuk tombol yang digunakan berulang kali.\n",
    "\n",
    "\n",
    "### Objek - objek yang diimport dari Library Kivy :\n",
    "-   from kivy.uix.boxlayout import BoxLayout: <br>\n",
    "Berisikan objek dari kivy yang bisa membentuk sebuah layout\n",
    "-\tfrom kivy.app import App : <br>\n",
    "Berisikan inti dari pembangunan aplikasi berbasis kivy\n",
    "-\tfrom kivy.uix.button import Button : <br>\n",
    "Berisikan objek tombol\n",
    "-\tfrom kivy.uix.textinput import TextInput <br>\n",
    "Berisikan inputan text\n",
    "-\tfrom kivy.uix.label import Label : <br>\n",
    "Berisikan label string\n",
    "-\tfrom kivy.core.window import Window : <br> \n",
    "Berisikan class yang digunakan untuk pengaturan window\n",
    "-\tfrom kivy.uix.image import Image :<br>\n",
    "Class yang digunakan untuk memasukkan image di dalam aplikasi\n",
    "-\tfrom kivy.uix.popup import Popup :<br>\n",
    "Class yang digunakan untuk menampilak window popup\n",
    "-\tfrom kivy.uix.screenmanager import Screen, ScreenManager, WipeTransition : <br>\n",
    "Class yang digunakan untuk pengaturan perpindahan layar\n",
    "-\tfrom kivy.properties import ObjectProperty : <br> \n",
    "Class yang digunakan untuk penyimpanan objek antara file python dan file kv\n",
    "-\tfrom kivy.lang import Builder : <br>\n",
    "Class yang digunakan untuk membaca file kv yang di buat\n",
    "-\tfrom kivy.uix.recycleview import RecycleView : <br>\n",
    "Class yang digunakan untuk pembuatan recaicleView\n",
    "-\tfrom kivy.uix.recycleview.views import RecycleDataViewBehavior : <br>\n",
    "Class yang digunakan untuk menagtur tingkah laku dari recaicleView\n",
    "-\tfrom kivy.uix.gridlayout import GridLayout : <Br>\n",
    "Class yang digunakan untuk pembuatan gridLayout\n",
    "-\tfrom kivy.properties import BooleanProperty : <br> \n",
    "Class yang digunakan untuk penyimpanan property bertipe data boolean\n",
    "-\tfrom kivy.uix.recycleboxlayout import RecycleBoxLayout : <br>\n",
    "Class yang digunakan untuk pembuatan layout pada recycleView\n",
    "-\tfrom kivy.uix.behaviors import FocusBehavior : <br>\n",
    "Class yag digunakan untuk mengatur tingkah lau pada item recycleView yang terpilih\n",
    "-\tfrom kivy.uix.recycleview.layout import LayoutSelectionBehavior : <br>\n",
    "Class yang digunakan untuk pengaturan layout pada recycleView\n"
   ]
  },
  {
   "cell_type": "markdown",
   "metadata": {},
   "source": [
    "## Source Code dari file Projek KIVY"
   ]
  },
  {
   "cell_type": "code",
   "execution_count": null,
   "metadata": {},
   "outputs": [],
   "source": [
    "\"\"\"\n",
    "from kivy.uix.boxlayout import BoxLayout\n",
    "from kivy.app import App\n",
    "from kivy.uix.button import Button\n",
    "from kivy.uix.textinput import TextInput\n",
    "from kivy.uix.label import Label\n",
    "from kivy.core.window import Window\n",
    "from kivy.uix.image import Image\n",
    "from kivy.uix.popup import Popup\n",
    "from kivy.uix.screenmanager import Screen, ScreenManager, WipeTransition\n",
    "from kivy.properties import ObjectProperty\n",
    "from kivy.lang import Builder\n",
    "from kivy.uix.recycleview import RecycleView\n",
    "from kivy.uix.recycleview.views import RecycleDataViewBehavior\n",
    "from kivy.uix.gridlayout import GridLayout\n",
    "from kivy.properties import BooleanProperty\n",
    "from kivy.uix.recycleboxlayout import RecycleBoxLayout\n",
    "from kivy.uix.behaviors import FocusBehavior\n",
    "from kivy.uix.recycleview.layout import LayoutSelectionBehavior\n",
    "\n",
    "Window.fullscreen = 'auto'\n",
    "\n",
    "#Load kv file\n",
    "Builder.load_file('kivy.kv')\n",
    "\n",
    "#Load Data from txt\n",
    "def LoadData(file):\n",
    "    user = {}\n",
    "    file = open(file+\".txt\")\n",
    "    for x in file:\n",
    "        temp = x.split()\n",
    "        if len(temp)==3:\n",
    "            user[temp[0]] = [str(temp[1]), str(temp[2])]\n",
    "        else :\n",
    "            user[temp[0]] = [str(temp[1]), str(temp[2]),str(temp[3])]\n",
    "    print(user)\n",
    "    return user\n",
    "\n",
    "def save(file,DATA):\n",
    "    file=open(file+\".txt\",'w')\n",
    "    for x in DATA.keys():\n",
    "        file.write(str(x)+\" \"+ str(DATA[x][0])+\" \"+str(DATA[x][1])+\"\\n\")\n",
    "    print(DATA)\n",
    "    file.close()\n",
    "\n",
    "DATA = LoadData('user')\n",
    "listBook = LoadData('book')\n",
    "SM = ScreenManager()\n",
    "dataUSER = []\n",
    "\n",
    "class Login(Screen):\n",
    "    def LoginClicked(self,uname,pword):\n",
    "        uname=uname.lower()\n",
    "        pword=pword.lower()\n",
    "        warning = Popup(title='No Username Or Pasword Found',\n",
    "                       content=Label(text='Check your spell on Username and Password \\n'\n",
    "                       +' or create account \\npress \"esc\" for close'),\n",
    "                       size_hint=(None, None), size = (400, 200))\n",
    "        if uname in DATA.keys() :\n",
    "            if pword == DATA[uname][0]:\n",
    "               file=open(\"session.txt\",\"w\")\n",
    "               file.write(uname)\n",
    "               file.close()\n",
    "               SM.current = 'ROB'\n",
    "            else :\n",
    "                warning.open()\n",
    "        else :\n",
    "            warning.open()\n",
    "\n",
    "class Regist(Screen):\n",
    "    def validateReg(self,un,pw,email):\n",
    "        un=un.lower()\n",
    "        pw=pw.lower()\n",
    "        email=email.lower()\n",
    "        emailList = []\n",
    "        data = DATA.copy()\n",
    "        print(DATA)\n",
    "        for i in DATA:\n",
    "            emailList.append(DATA[i][1])\n",
    "        print(emailList)\n",
    "        warning = Popup(title='Error Input',\n",
    "                       content=Label(text=''),\n",
    "                       size_hint=(None, None), size=(400, 200))\n",
    "        if un == '' or pw == '' or email == '' :\n",
    "            warning.content = Label(text=\"please insert all fields\")\n",
    "            warning.open()\n",
    "        else :\n",
    "            if un in DATA :\n",
    "                warning.content = Label(text=\"username has been taken\")\n",
    "                warning.open()\n",
    "            elif email in emailList:\n",
    "                warning.content = Label(text=\"email has been taken\")\n",
    "                warning.open()\n",
    "            elif len(pw) < 8 :\n",
    "                warning.content = Label(text=\"Password to Sort minimum char(8)\")\n",
    "                warning.open()\n",
    "            else :\n",
    "                Welcome = Popup(title='Welcome',\n",
    "                       content=Label(text='Please Login To your New Account'),\n",
    "                       size_hint=(None, None), size=(400, 200))\n",
    "                Welcome.open()\n",
    "                DATA[un]=[pw,email]\n",
    "                save('user',DATA)\n",
    "                SM.current = 'login'\n",
    "                \n",
    "class menu(Screen,BoxLayout):\n",
    "    pass\n",
    "        \n",
    "\n",
    "class SelectableRecycleBoxLayout(FocusBehavior, LayoutSelectionBehavior,\n",
    "                                 RecycleBoxLayout):\n",
    "    ''' Adds selection and focus behaviour to the view. '''\n",
    "    pass\n",
    "\n",
    "class SelectableBook(RecycleDataViewBehavior, GridLayout):\n",
    "    index = None\n",
    "    selected = BooleanProperty(False)\n",
    "    selectable = BooleanProperty(True)\n",
    "    cols = 5\n",
    "\n",
    "    def refresh_view_attrs(self, rv, index, data):\n",
    "        ''' Catch and handle the view changes '''\n",
    "        self.index = index\n",
    "        self.label1_text = str(index+1)\n",
    "        self.imageBook = data['image']['source']\n",
    "        self.label2_text = data['label2']['text']\n",
    "        self.label3_text = data['label3']['text']\n",
    "        self.label4_text = data['label4']['text']\n",
    "        return super(SelectableBook, self).refresh_view_attrs(rv, index, data)\n",
    "\n",
    "    def on_touch_down(self, touch):\n",
    "        ''' Add selection on touch down '''\n",
    "        if super(SelectableBook, self).on_touch_down(touch):\n",
    "            return True\n",
    "        if self.collide_point(*touch.pos) and self.selectable:\n",
    "            return self.parent.select_with_touch(self.index, touch)\n",
    "\n",
    "    def apply_selection(self, rv, index, is_selected):\n",
    "        ''' Respond to the selection of items in the view. '''\n",
    "        self.selected = is_selected\n",
    "        if is_selected:\n",
    "            if [rv.data[index]['label2']['text'],rv.data[index]['label3']['text']]  not in dataUSER:\n",
    "                dataUSER.append([rv.data[index]['label2']['text'],rv.data[index]['label4']['text']])\n",
    "        else:\n",
    "            print(\"selection removed for {0}\".format(rv.data[index]))\n",
    "            \n",
    "                                \n",
    "class RV(RecycleView):\n",
    "    def __init__(self, **kwargs):\n",
    "        super(RV, self).__init__(**kwargs)\n",
    "        self.data = []\n",
    "        for i in listBook.keys():\n",
    "            d = {'image':{'source':i},'label2': {'text':listBook[i][0]},\n",
    "                 'label3': {'text': listBook[i][1]},\n",
    "                 'label4': {'text': listBook[i][2]}}\n",
    "            self.data.append(d)\n",
    "\n",
    "class view(Screen):\n",
    "    def TakeBook(self):\n",
    "        name=''\n",
    "        Text = ''\n",
    "        userVal = open(\"session.txt\")\n",
    "        temp=[]\n",
    "        total = 0\n",
    "        for i in userVal:\n",
    "            name=i\n",
    "        for i in dataUSER:\n",
    "            Text+=i[0]+\" Price :  Rp. \"+i[1]+\"\\n\"\n",
    "            total+=int(i[1])\n",
    "        info = Popup(title='THANKS '+name.upper(),\n",
    "                        content=Label(text='You Bought : \\n'+Text+'\\nTotal Price :  Rp. '+str(total)\n",
    "                                       +'\\nThe Confirmation Will be Send to your Email :\\n'\n",
    "                                      +DATA[name][-1]),\n",
    "                        size_hint=(None, None), size = (400, 300))\n",
    "        info.open()\n",
    "        print(dataUSER)\n",
    "        SM.current='ROB'\n",
    "\n",
    "SM.transition=WipeTransition()\n",
    "SM.add_widget(Login(name='login'))\n",
    "SM.add_widget(Regist(name='reg'))\n",
    "SM.add_widget(menu(name='ROB'))\n",
    "SM.add_widget(view(name='view'))\n",
    "\n",
    "class BooksApp(App):\n",
    "    def build(self):\n",
    "        SM.current = 'login'\n",
    "        return SM\n",
    "\n",
    "\n",
    "if __name__ == '__main__':\n",
    "    BooksApp().run()\n",
    "\"\"\"\n"
   ]
  },
  {
   "cell_type": "markdown",
   "metadata": {},
   "source": [
    "### Method & Variable Global Pada Program"
   ]
  },
  {
   "cell_type": "code",
   "execution_count": null,
   "metadata": {},
   "outputs": [],
   "source": [
    "\"\"\"def LoadData(file):\n",
    "    user = {}\n",
    "    file = open(file+\".txt\")\n",
    "    for x in file:\n",
    "        temp = x.split()\n",
    "        if len(temp)==3:\n",
    "            user[temp[0]] = [str(temp[1]), str(temp[2])]\n",
    "        else :\n",
    "            user[temp[0]] = [str(temp[1]), str(temp[2]),str(temp[3])]\n",
    "    print(user)\n",
    "    return user\n",
    "\n",
    "def save(file,DATA):\n",
    "    file=open(file+\".txt\",'w')\n",
    "    for x in DATA.keys():\n",
    "        file.write(str(x)+\" \"+ str(DATA[x][0])+\" \"+str(DATA[x][1])+\"\\n\")\n",
    "    print(DATA)\n",
    "    file.close()\n",
    "\n",
    "DATA = LoadData('user')\n",
    "listBook = LoadData('book')\n",
    "SM = ScreenManager()\n",
    "dataUSER = []\"\"\""
   ]
  },
  {
   "cell_type": "markdown",
   "metadata": {},
   "source": [
    "- DATA\t    : Digunakan untuk menyimpan data user yang diambil dari file .txt hasil dari method LoadData().\n",
    "- listBook\t: Digunkakan untuk menyimpan data buku yang diambil dari file .txt hasil dari method LoadData().\n",
    "- SM\t\t: Inisialisasi screenManager().\n",
    "- dataUser\t: List kosong yang nantinya digunakan untuk menympan transaksi dari user."
   ]
  },
  {
   "cell_type": "markdown",
   "metadata": {},
   "source": [
    "## Class BooksApp(App)"
   ]
  },
  {
   "cell_type": "code",
   "execution_count": 1,
   "metadata": {},
   "outputs": [
    {
     "ename": "NameError",
     "evalue": "name 'App' is not defined",
     "output_type": "error",
     "traceback": [
      "\u001b[1;31m---------------------------------------------------------------------------\u001b[0m",
      "\u001b[1;31mNameError\u001b[0m                                 Traceback (most recent call last)",
      "\u001b[1;32m<ipython-input-1-4c298097b86b>\u001b[0m in \u001b[0;36m<module>\u001b[1;34m()\u001b[0m\n\u001b[1;32m----> 1\u001b[1;33m \u001b[1;32mclass\u001b[0m \u001b[0mBooksApp\u001b[0m\u001b[1;33m(\u001b[0m\u001b[0mApp\u001b[0m\u001b[1;33m)\u001b[0m\u001b[1;33m:\u001b[0m\u001b[1;33m\u001b[0m\u001b[1;33m\u001b[0m\u001b[0m\n\u001b[0m\u001b[0;32m      2\u001b[0m     \u001b[1;32mdef\u001b[0m \u001b[0mbuild\u001b[0m\u001b[1;33m(\u001b[0m\u001b[0mself\u001b[0m\u001b[1;33m)\u001b[0m\u001b[1;33m:\u001b[0m\u001b[1;33m\u001b[0m\u001b[1;33m\u001b[0m\u001b[0m\n\u001b[0;32m      3\u001b[0m         \u001b[0mSM\u001b[0m\u001b[1;33m.\u001b[0m\u001b[0mcurrent\u001b[0m \u001b[1;33m=\u001b[0m \u001b[1;34m'login'\u001b[0m\u001b[1;33m\u001b[0m\u001b[1;33m\u001b[0m\u001b[0m\n\u001b[0;32m      4\u001b[0m         \u001b[1;32mreturn\u001b[0m \u001b[0mSM\u001b[0m\u001b[1;33m\u001b[0m\u001b[1;33m\u001b[0m\u001b[0m\n\u001b[0;32m      5\u001b[0m \u001b[1;33m\u001b[0m\u001b[0m\n",
      "\u001b[1;31mNameError\u001b[0m: name 'App' is not defined"
     ]
    }
   ],
   "source": [
    "\"\"\"class BooksApp(App):\n",
    "    def build(self):\n",
    "        SM.current = 'login'\n",
    "        return SM\n",
    "\n",
    "\n",
    "if __name__ == '__main__':\n",
    "    BooksApp().run()\n",
    "\"\"\""
   ]
  },
  {
   "cell_type": "markdown",
   "metadata": {},
   "source": [
    "Class ini sebagai main program karena inharitance dengan cass App.Inharitance yang digunakan adalah overriding dengan melakukan replace pada method build() yang diisikan dengan SM.current = ‘login’ sebagai layar yang aktif dan mengembalikan nilai berupa objek SM(screeenManager)."
   ]
  },
  {
   "cell_type": "markdown",
   "metadata": {},
   "source": [
    "## Class Login(Screen)"
   ]
  },
  {
   "cell_type": "code",
   "execution_count": null,
   "metadata": {},
   "outputs": [],
   "source": [
    "\"\"\"class Login(Screen):\n",
    "    def LoginClicked(self,uname,pword):\n",
    "        uname=uname.lower()\n",
    "        pword=pword.lower()\n",
    "        warning = Popup(title='No Username Or Pasword Found',\n",
    "                       content=Label(text='Check your spell on Username and Password \\n'\n",
    "                       +' or create account \\npress \"esc\" for close'),\n",
    "                       size_hint=(None, None), size = (400, 200))\n",
    "        if uname in DATA.keys() :\n",
    "            if pword == DATA[uname][0]:\n",
    "               file=open(\"session.txt\",\"w\")\n",
    "               file.write(uname)\n",
    "               file.close()\n",
    "               SM.current = 'ROB'\n",
    "            else :\n",
    "                warning.open()\n",
    "        else :\n",
    "            warning.open()\n",
    "\"\"\""
   ]
  },
  {
   "cell_type": "markdown",
   "metadata": {},
   "source": [
    "Class ini berisikan screen atau layar dari halama login.class ini merupakan inharitance dari class Screen secara overriding dengan menambahkan method loginClicked(self,uname,pword).\n",
    "Parameter uname dan pword di dapatkan dari hasil input pada TextInput dan divalidasikan dengan data yang sebelumnyasudah tersimpan pada variabel global DATA dan dibuatkan objek popup sebagai peringatan"
   ]
  },
  {
   "cell_type": "markdown",
   "metadata": {},
   "source": [
    "#### File Kv Pada Class Login"
   ]
  },
  {
   "cell_type": "code",
   "execution_count": null,
   "metadata": {},
   "outputs": [],
   "source": [
    "\"\"\"\n",
    "<Login>:\n",
    "    BoxLayout:\n",
    "        orientation: 'vertical'\n",
    "        spacing: 2\n",
    "        padding: [80,80]\n",
    "        Label :\n",
    "            text: 'TAKE YOUR BOOK APP'\n",
    "            font_size: '27'\n",
    "            padding: [0,0]\n",
    "            valign: 'bottom'\n",
    "        Image: \n",
    "            source: \"logo.png\"\n",
    "            size_hint_y: None\n",
    "            height: 150\n",
    "        Label: \n",
    "            text: \"Username : \"\n",
    "            font_size: \"24\"\n",
    "            halign: 'left'\n",
    "        TextInput: \n",
    "            id: username\n",
    "            font_size: \"24sp\"\n",
    "            padding: 15\n",
    "            multiline: False\n",
    "        Label: \n",
    "            text: \"Password\"\n",
    "            font_size: \"24\"\n",
    "            halign: 'left'\n",
    "        TextInput: \n",
    "            id : pwInput\n",
    "            password: True\n",
    "            font_size: \"24sp\"\n",
    "            padding: 15 \n",
    "            multiline: False\n",
    "        Label :\n",
    "            text:\"\"\n",
    "        Button: \n",
    "            text: \"Login\"\n",
    "            font_size: \"24sp\"\n",
    "            on_press: root.LoginClicked(username.text,pwInput.text)\n",
    "            background_color: 0.48, 0.8, 0.68, 1\n",
    "        Button: \n",
    "            text: \"Register\"\n",
    "            font_size: \"24sp\"\n",
    "            on_press: root.manager.current = 'reg'\n",
    "            background_color: 0.9, 0.65, 0.19, 1\n",
    "\"\"\""
   ]
  },
  {
   "cell_type": "markdown",
   "metadata": {},
   "source": [
    "Pada Class Regist dalam file .kv dilakukan layoutng dan penempatan Objek, Layout yang digunakan adalah BoxLayout dan Beranggotakan Widget Label, Button, Image"
   ]
  },
  {
   "cell_type": "markdown",
   "metadata": {},
   "source": [
    "## Class Regist(Screen)"
   ]
  },
  {
   "cell_type": "code",
   "execution_count": null,
   "metadata": {},
   "outputs": [],
   "source": [
    "\"\"\"class Regist(Screen):\n",
    "    def validateReg(self,un,pw,email):\n",
    "        un=un.lower()\n",
    "        pw=pw.lower()\n",
    "        email=email.lower()\n",
    "        emailList = []\n",
    "        data = DATA.copy()\n",
    "        print(DATA)\n",
    "        for i in DATA:\n",
    "            emailList.append(DATA[i][1])\n",
    "        print(emailList)\n",
    "        warning = Popup(title='Error Input',\n",
    "                       content=Label(text=''),\n",
    "                       size_hint=(None, None), size=(400, 200))\n",
    "        if un == '' or pw == '' or email == '' :\n",
    "            warning.content = Label(text=\"please insert all fields\")\n",
    "            warning.open()\n",
    "        else :\n",
    "            if un in DATA :\n",
    "                warning.content = Label(text=\"username has been taken\")\n",
    "                warning.open()\n",
    "            elif email in emailList:\n",
    "                warning.content = Label(text=\"email has been taken\")\n",
    "                warning.open()\n",
    "            elif len(pw) < 8 :\n",
    "                warning.content = Label(text=\"Password to Sort minimum char(8)\")\n",
    "                warning.open()\n",
    "            else :\n",
    "                Welcome = Popup(title='Welcome',\n",
    "                       content=Label(text='Please Login To your New Account'),\n",
    "                       size_hint=(None, None), size=(400, 200))\n",
    "                Welcome.open()\n",
    "                DATA[un]=[pw,email]\n",
    "                save('user',DATA)\n",
    "                SM.current = 'login'\n",
    "\"\"\""
   ]
  },
  {
   "cell_type": "markdown",
   "metadata": {},
   "source": [
    "Class ini berisikan tampilan layar untuk halaman resgister yang berinheritamce dengan Class Screen secara Overridding, dengan mendapatakan tambahan method ValidateReg(un, pw, email) Parameter yang didapatkan berasal dari isi TextInput, dalam method ini dilakukan validasi parameter dengan data yang ada pada Variable DATA, dan ditambahakan Objek Popup Sebagai Peringatan"
   ]
  },
  {
   "cell_type": "markdown",
   "metadata": {},
   "source": [
    "#### File Kv pada Class Regist"
   ]
  },
  {
   "cell_type": "code",
   "execution_count": null,
   "metadata": {},
   "outputs": [],
   "source": [
    "\"\"\"\n",
    "<Regist>:\n",
    "    BoxLayout:\n",
    "        orientation: 'vertical'\n",
    "        spacing: 2\n",
    "        padding: [80,80]\n",
    "        Label :\n",
    "            text: 'CREATE ACCOUNT'\n",
    "            font_size: '27'\n",
    "            padding: [0,0]\n",
    "            valign: 'bottom'\n",
    "        Label: \n",
    "            text: \"New Username : \"\n",
    "            font_size: \"24\"\n",
    "            halign: 'left'\n",
    "        TextInput: \n",
    "            id: Newusername\n",
    "            font_size: \"24sp\"\n",
    "            padding: 15\n",
    "            multiline: False\n",
    "        Label: \n",
    "            text: \"NewPassword\"\n",
    "            font_size: \"24\"\n",
    "            halign: 'left'\n",
    "        TextInput: \n",
    "            id : NewpwInput\n",
    "            password: True\n",
    "            font_size: \"24sp\"\n",
    "            padding: 15 \n",
    "            multiline: False\n",
    "        Label :\n",
    "            text:\"Email\"\n",
    "            font_size: \"24\"\n",
    "            halign: 'left'\n",
    "        TextInput: \n",
    "            id: Email\n",
    "            font_size: \"24sp\"\n",
    "            padding: 15 \n",
    "            multiline: False\n",
    "        Label :\n",
    "            text: \"\"\n",
    "        Button: \n",
    "            text: \"Back To Login\"\n",
    "            font_size: \"24sp\"\n",
    "            background_color: 0.48, 0.8, 0.68, 1\n",
    "            on_press: root.manager.current = 'login'\n",
    "        Button: \n",
    "            text: \"Register\"\n",
    "            font_size: \"24sp\"\n",
    "            on_press: root.validateReg(Newusername.text, NewpwInput.text, Email.text)\n",
    "            background_color: 0.9, 0.65, 0.19, 1\n",
    "\"\"\""
   ]
  },
  {
   "cell_type": "markdown",
   "metadata": {},
   "source": [
    "### Class Menu(Screen)"
   ]
  },
  {
   "cell_type": "raw",
   "metadata": {},
   "source": [
    "class menu(Screen,BoxLayout):\n",
    "    pass"
   ]
  },
  {
   "cell_type": "markdown",
   "metadata": {},
   "source": [
    "class ini merupakan inheritance dari Screen dan BoxLayout, Inheritance yang dilakukan secara Overriding tanpa ada penamabahan atau modifikasi Method, yang dilakukan hanya Penamabahan Widget Pada Kivy"
   ]
  },
  {
   "cell_type": "markdown",
   "metadata": {},
   "source": [
    "##### File Kv pada Class Menu"
   ]
  },
  {
   "cell_type": "code",
   "execution_count": null,
   "metadata": {},
   "outputs": [],
   "source": [
    "\"\"\"\n",
    "<menu>\n",
    "    BoxLayout:\n",
    "        orientation: 'vertical'\n",
    "        spacing: 20\n",
    "        padding: [50,80]\n",
    "        BoxLayout:\n",
    "            orientation: 'horizontal'\n",
    "            spacing: 2  \n",
    "            Label :\n",
    "                text: \"'A BEAUTIFUL HOUSE, A BEAUTIFUL BOOK'\\n If I were asked to say what is at once the most\\n important production of art and the thing to be most longed for\\n, I should answer, a beautiful House and if I were further asked to name \\nthe production next in importance and the thing next to be longed for,\\n I should answer, a beautiful Book. \\nTo enjoy good houses and good books in self-respect and decent comfort, \\nseems to me to be the pleasurable end \\ntowards which all societies of human beings ought now to struggle.\\n'William Morris'\"\n",
    "            Button: \n",
    "                font_size: \"24sp\"\n",
    "                background_color: 0.48, 0.8, 0.68, 0.8\n",
    "                on_press: root.manager.current = 'view'\n",
    "                Image:\n",
    "                    source: 'borrow.png'\n",
    "                    y: self.parent.y + self.parent.height - 550\n",
    "                    x: self.parent.x - 100\n",
    "                    size: 850, 550\n",
    "                    allow_stretch: True\n",
    "                    text: \"Return Book\"     \n",
    "\n",
    "        Button: \n",
    "            text: \"Log Out\"\n",
    "            font_size: \"24sp\"\n",
    "            size_hint_y: None\n",
    "            background_color: 0.81, 0.27, 0.33, 1\n",
    "            height: 40\n",
    "            on_press : root.manager.current = 'login'\n",
    "\"\"\""
   ]
  },
  {
   "cell_type": "markdown",
   "metadata": {},
   "source": [
    "### Class SelectableRecycleBoxLayout(FocusBehavior, LayoutSelectionBehavior, RecycleBoxLayout) & class SelectableBook(RecycleDataViewBehavior, GridLayout)"
   ]
  },
  {
   "cell_type": "code",
   "execution_count": null,
   "metadata": {},
   "outputs": [],
   "source": [
    "\"\"\"\n",
    "class SelectableRecycleBoxLayout(FocusBehavior, LayoutSelectionBehavior,\n",
    "                                 RecycleBoxLayout):\n",
    "    ''' Adds selection and focus behaviour to the view. '''\n",
    "    pass\n",
    "\n",
    "class SelectableBook(RecycleDataViewBehavior, GridLayout):\n",
    "    index = None\n",
    "    selected = BooleanProperty(False)\n",
    "    selectable = BooleanProperty(True)\n",
    "    cols = 5\n",
    "\n",
    "    def refresh_view_attrs(self, rv, index, data):\n",
    "        ''' Catch and handle the view changes '''\n",
    "        self.index = index\n",
    "        self.label1_text = str(index+1)\n",
    "        self.imageBook = data['image']['source']\n",
    "        self.label2_text = data['label2']['text']\n",
    "        self.label3_text = data['label3']['text']\n",
    "        self.label4_text = data['label4']['text']\n",
    "        return super(SelectableBook, self).refresh_view_attrs(rv, index, data)\n",
    "\n",
    "    def on_touch_down(self, touch):\n",
    "        ''' Add selection on touch down '''\n",
    "        if super(SelectableBook, self).on_touch_down(touch):\n",
    "            return True\n",
    "        if self.collide_point(*touch.pos) and self.selectable:\n",
    "            return self.parent.select_with_touch(self.index, touch)\n",
    "\n",
    "    def apply_selection(self, rv, index, is_selected):\n",
    "        ''' Respond to the selection of items in the view. '''\n",
    "        self.selected = is_selected\n",
    "        if is_selected:\n",
    "            if [rv.data[index]['label2']['text'],rv.data[index]['label3']['text']]  not in dataUSER:\n",
    "                dataUSER.append([rv.data[index]['label2']['text'],rv.data[index]['label4']['text']])\n",
    "        else:\n",
    "            print(\"selection removed for {0}\".format(rv.data[index]))\n",
    "            \n",
    "\"\"\""
   ]
  },
  {
   "cell_type": "markdown",
   "metadata": {},
   "source": [
    "Untuk class SelectableRecycleBoxLayout(FocusBehavior, LayoutSelectionBehavior, RecycleBoxLayout) memiliki beberapa Parent yaitu FocusBehaviour, LayoutSelectionBehavior, RecycleBoxLayout) Yang mana pada class ini dilakukan pengturan Layouting pada recycleview dan behaviour – behaviour yang ada didalamnya, sedangkan untuk class SelectableBook(RecycleDataViewBehavior, GridLayout) Inherit dengan RecycleDataViewBehaviour dan gridLayout, secara SuperClass"
   ]
  },
  {
   "cell_type": "code",
   "execution_count": null,
   "metadata": {},
   "outputs": [],
   "source": [
    "\"\"\"  \n",
    "  def refresh_view_attrs(self, rv, index, data):\n",
    "        ''' Catch and handle the view changes '''\n",
    "        self.index = index\n",
    "        self.label1_text = str(index+1)\n",
    "        self.imageBook = data['image']['source']\n",
    "        self.label2_text = data['label2']['text']\n",
    "        self.label3_text = data['label3']['text']\n",
    "        self.label4_text = data['label4']['text']\n",
    "        return super(SelectableBook, self).refresh_view_attrs(rv, index, data)\n",
    "\"\"\""
   ]
  },
  {
   "cell_type": "markdown",
   "metadata": {},
   "source": [
    "Pada method diaatas terdapat Proses Inheritance secara Super dengan karena mengambil atribut unik dari Method refresh_view_attrs(args), pada method ini diberikan beberapa data yag digunakan sebagai Atribut - atribut  pada recycleView"
   ]
  },
  {
   "cell_type": "code",
   "execution_count": null,
   "metadata": {},
   "outputs": [],
   "source": [
    "\"\"\"\n",
    "def on_touch_down(self, touch):\n",
    "        ''' Add selection on touch down '''\n",
    "        if super(SelectableBook, self).on_touch_down(touch):\n",
    "            return True\n",
    "        if self.collide_point(*touch.pos) and self.selectable:\n",
    "            return self.parent.select_with_touch(self.index, touch)\n",
    "\n",
    "    def apply_selection(self, rv, index, is_selected):\n",
    "        ''' Respond to the selection of items in the view. '''\n",
    "        self.selected = is_selected\n",
    "        if is_selected:\n",
    "            if [rv.data[index]['label2']['text'],rv.data[index]['label3']['text']]  not in dataUSER:\n",
    "                dataUSER.append([rv.data[index]['label2']['text'],rv.data[index]['label4']['text']])\n",
    "        else:\n",
    "            print(\"selection removed for {0}\".format(rv.data[index]))\n",
    "\"\"\""
   ]
  },
  {
   "cell_type": "markdown",
   "metadata": {},
   "source": [
    "Pada method ini memodifikasi method yang ada pada class RecycleViewBehavior, dimana saat dilakukan tigkah laku on_touch_down akan dikembalikan nilai Boolean manakah item yang Terpilih, dan juga dilakukan Modifikasi pada method apply_selection() dimana dapat diamblil data – data dari view yang terpilih"
   ]
  },
  {
   "cell_type": "markdown",
   "metadata": {},
   "source": [
    "## Class RV(RecycleView)"
   ]
  },
  {
   "cell_type": "code",
   "execution_count": null,
   "metadata": {},
   "outputs": [],
   "source": [
    "\"\"\"\n",
    "class RV(RecycleView):\n",
    "    def __init__(self, **kwargs):\n",
    "        super(RV, self).__init__(**kwargs)\n",
    "        self.data = []\n",
    "        for i in listBook.keys():\n",
    "            d = {'image':{'source':i},'label2': {'text':listBook[i][0]},\n",
    "                 'label3': {'text': listBook[i][1]},\n",
    "                 'label4': {'text': listBook[i][2]}}\n",
    "            self.data.append(d)\n",
    "\"\"\""
   ]
  },
  {
   "cell_type": "markdown",
   "metadata": {},
   "source": [
    "class ini merupakan inheritance dari Class RecycleView dengan metode Super class yang mengambil Constructor Dari Recycler View, dalam class ini dilakukan pembuatan recycleview berdasarkan jumlah data yang di Import dan tertampung pada Variable listBook"
   ]
  },
  {
   "cell_type": "markdown",
   "metadata": {},
   "source": [
    "### Class View(Screen)"
   ]
  },
  {
   "cell_type": "code",
   "execution_count": null,
   "metadata": {},
   "outputs": [],
   "source": [
    "\"\"\"\n",
    "class view(Screen):\n",
    "    def TakeBook(self):\n",
    "        name=''\n",
    "        Text = ''\n",
    "        userVal = open(\"session.txt\")\n",
    "        temp=[]\n",
    "        total = 0\n",
    "        for i in userVal:\n",
    "            name=i\n",
    "        for i in dataUSER:\n",
    "            Text+=i[0]+\" Price :  Rp. \"+i[1]+\"\\n\"\n",
    "            total+=int(i[1])\n",
    "        info = Popup(title='THANKS '+name.upper(),\n",
    "                        content=Label(text='You Bought : \\n'+Text+'\\nTotal Price :  Rp. '+str(total)\n",
    "                                       +'\\nThe Confirmation Will be Send to your Email :\\n'\n",
    "                                      +DATA[name][-1]),\n",
    "                        size_hint=(None, None), size = (400, 300))\n",
    "        info.open()\n",
    "        print(dataUSER)\n",
    "        SM.current='ROB'\n",
    "\"\"\""
   ]
  },
  {
   "cell_type": "markdown",
   "metadata": {},
   "source": [
    "pada class ini berinheritance pada class Screen dengan menggunakan metode Overriding dan terdapat method tambahan TakeBook() yang digunakan untuk memvalidasi item – item yang terpilih pada recycleView dan ditambahkan objek Popup sebagai tampilan informasi. \n",
    "Pada class ini ditempatkab RecycleView yang telah dibuat dan diletakkan menggunakan file ,kv\n"
   ]
  },
  {
   "cell_type": "markdown",
   "metadata": {},
   "source": [
    "<RV>:\n",
    "    viewclass: 'SelectableBook'\n",
    "    SelectableRecycleBoxLayout:\n",
    "        padding: [30,30]\n",
    "        spacing: 5\n",
    "        default_size: None, dp(100)\n",
    "        default_size_hint: 1, None\n",
    "        size_hint_y: None\n",
    "        height: self.minimum_height\n",
    "        orientation: 'vertical'\n",
    "        multiselect: True\n",
    "        touch_multiselect: True\n",
    "<view>\n",
    "    BoxLayout:\n",
    "        padding: [15,15]\n",
    "        spacing: 10\n",
    "        orientation: 'vertical'\n",
    "        Label:\n",
    "            text: \"Book List\"\n",
    "            font_size: \"36\"\n",
    "            size_hint_y: None\n",
    "            height: 50\n",
    "        RV\n",
    "        Button : \n",
    "            text: \"Take Book\"\n",
    "            font_size: \"24sp\"\n",
    "            size_hint_y: None\n",
    "            background_color: 0.9, 0.65, 0.19, 1\n",
    "            height: 70\n",
    "            on_press : root.TakeBook()\n",
    "        Button : \n",
    "            text: \"Back\"\n",
    "            font_size: \"24sp\"\n",
    "            size_hint_y: None\n",
    "            background_color: 0.81, 0.27, 0.33, 1\n",
    "            height: 70\n",
    "            on_press : root.manager.current = 'ROB'\n"
   ]
  },
  {
   "cell_type": "markdown",
   "metadata": {},
   "source": [
    "### Penggunaan Screen Manager\n",
    "\n",
    "Dengan Screen manager developer bisa melakukan pengaturan pergeseran Screen mana yang akan ditampilkan degan option transisi, dalam screen manager akan disimpan beberapa class yang berinheritance dengan objek Screen, dimana objek tersebut akan menjadi widget - widgwt pada screen manager"
   ]
  },
  {
   "cell_type": "markdown",
   "metadata": {},
   "source": [
    "#### Inisialisasi Pada Screen Manager"
   ]
  },
  {
   "cell_type": "code",
   "execution_count": null,
   "metadata": {},
   "outputs": [],
   "source": [
    "\"\"\"\n",
    "SM.transition=WipeTransition()#inisialisasi Tranisi\n",
    "#Penambahan Widget pada screen Manager\n",
    "SM.add_widget(Login(name='login'))\n",
    "SM.add_widget(Regist(name='reg'))\n",
    "SM.add_widget(menu(name='ROB'))\n",
    "SM.add_widget(view(name='view'))\n",
    "\"\"\""
   ]
  },
  {
   "cell_type": "markdown",
   "metadata": {},
   "source": [
    "### Merubah Screen pada Screen Manager"
   ]
  },
  {
   "cell_type": "code",
   "execution_count": null,
   "metadata": {},
   "outputs": [],
   "source": [
    "\"\"\"\n",
    "SM.current='ROB'#merubah current Screen pada file py\n",
    "on_press : root.manager.current = 'login' #untuk merubah current Screen dalam fil .kv\n",
    "\"\"\""
   ]
  },
  {
   "cell_type": "code",
   "execution_count": null,
   "metadata": {},
   "outputs": [],
   "source": []
  }
 ],
 "metadata": {
  "kernelspec": {
   "display_name": "Python 3",
   "language": "python",
   "name": "python3"
  },
  "language_info": {
   "codemirror_mode": {
    "name": "ipython",
    "version": 3
   },
   "file_extension": ".py",
   "mimetype": "text/x-python",
   "name": "python",
   "nbconvert_exporter": "python",
   "pygments_lexer": "ipython3",
   "version": "3.6.7"
  }
 },
 "nbformat": 4,
 "nbformat_minor": 2
}
